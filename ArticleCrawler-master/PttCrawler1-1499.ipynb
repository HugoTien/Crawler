{
 "cells": [
  {
   "cell_type": "code",
   "execution_count": 3,
   "metadata": {
    "collapsed": true
   },
   "outputs": [],
   "source": [
    "import requests\n",
    "from bs4 import BeautifulSoup\n",
    "import re\n",
    "import time\n",
    "import concurrent.futures\n",
    "from pymongo import MongoClient\n",
    "client = MongoClient('10.120.27.11', 27017)\n",
    "\n",
    "requests.packages.urllib3.disable_warnings()"
   ]
  },
  {
   "cell_type": "code",
   "execution_count": null,
   "metadata": {},
   "outputs": [
    {
     "name": "stdout",
     "output_type": "stream",
     "text": [
      "done page19\n",
      "done page19\n",
      "done page19\n",
      "done page19\n",
      "done page19\n",
      "done page19\n",
      "done page19\n",
      "done page19\n",
      "done page19\n",
      "done page19\n",
      "done page19\n",
      "done page19\n",
      "done page19\n",
      "done page19\n",
      "done page19\n",
      "done page19\n",
      "done page19\n",
      "done page19\n",
      "done page19\n",
      "done page19\n",
      "done page19\n",
      "done page19\n",
      "done page19\n",
      "done page19\n",
      "done page19\n",
      "done page19\n",
      "done page19\n",
      "done page19\n",
      "done page19\n",
      "done page19\n",
      "done page19\n",
      "done page19\n",
      "done page19\n",
      "done page19\n",
      "done page19\n",
      "done page19\n",
      "done page19\n",
      "done page19\n",
      "done page19\n",
      "done page19\n",
      "done page19\n",
      "done page19\n",
      "done page19\n",
      "done page19\n",
      "done page19\n",
      "done page19\n",
      "done page19\n",
      "done page19\n",
      "done page19\n",
      "done page19\n",
      "done page19\n",
      "done page19\n",
      "done page19\n",
      "done page19\n",
      "done page19\n",
      "done page19\n",
      "done page19\n",
      "done page19\n",
      "done page19\n",
      "done page19\n",
      "done page19\n",
      "done page19\n",
      "done page19\n",
      "done page19\n",
      "done page19\n",
      "done page19\n",
      "done page19\n",
      "done page19\n",
      "done page19\n",
      "done page19\n",
      "done page19\n",
      "done page19\n",
      "done page19\n",
      "done page19\n",
      "done page19\n",
      "done page19\n",
      "done page19\n",
      "done page19\n",
      "done page19\n",
      "done page19\n",
      "done page19\n",
      "done page19\n",
      "done page19\n",
      "done page19\n",
      "done page19\n",
      "done page19\n",
      "done page19\n",
      "done page19\n",
      "done page19\n",
      "done page19\n",
      "done page19\n",
      "done page19\n",
      "done page19\n",
      "done page19\n",
      "done page19\n",
      "done page19\n",
      "done page19\n",
      "done page19\n",
      "done page19\n",
      "done page19\n",
      "done page19\n",
      "done page19\n",
      "done page19\n",
      "done page19\n"
     ]
    }
   ],
   "source": [
    "# article_title_list = [] # title list\n",
    "# article_link_list = [] # link list\n",
    "# article_author_list = [] # author list\n",
    "# article_monthday_list = [] # month & date lsit\n",
    "# article_year_list = [] # year list\n",
    "# article_detail_list = [] # all mix\n",
    "\n",
    "# author = \"\"\n",
    "# articledate = \"\"\n",
    "\n",
    "\n",
    "for i in range(1,1500):\n",
    "    article_title_list = [] # title list\n",
    "    article_link_list = [] # link list\n",
    "    article_author_list = [] # author list\n",
    "    article_monthday_list = [] # month & date lsit\n",
    "    article_year_list = [] # year list\n",
    "    article_detail_list = [] # all mix\n",
    "\n",
    "    author = \"\"\n",
    "    articledate = \"\"\n",
    "    res = requests.get('https://www.ptt.cc/bbs/Japan_Travel/index{}.html'.format(str(i)), verify = False)\n",
    "    soup = BeautifulSoup(res.text,\"lxml\")\n",
    "        \n",
    "\n",
    "    bigtitle = soup.find_all('div',class_ ='r-ent')\n",
    "    for every in bigtitle:\n",
    "    \n",
    "        author_list = every.find_all('div','author')  # 作者名稱    \n",
    "        for author in author_list:\n",
    "            author = author.text\n",
    "            article_author_list.append(author)\n",
    "\n",
    "        date_list = every.find_all('div',\"date\") # 文章日期\n",
    "        for monthday in date_list:\n",
    "            monthday = monthday.text.strip().replace(\"/\",\"-\")\n",
    "            article_monthday_list.append(monthday)\n",
    "            \n",
    "\n",
    "\n",
    "        title = every.find_all('div',class_ = 'title') # 標題&網址\n",
    "        for element in title:\n",
    "            try:\n",
    "                article_link = \"https://www.ptt.cc\"+ element.select('a')[0]['href'] # link\n",
    "                article_link_list.append(article_link) # link\n",
    "                #         article_title = element.select('a')\n",
    "                article_title = element.text.replace(\"\\n\",\"\")\n",
    "                article_title_list.append(article_title)\n",
    "    #         except KeyError:\n",
    "    #             article_title = \"\"\n",
    "    #             pass\n",
    "\n",
    "            \n",
    "            except IndexError:\n",
    "                article_link = \"None\"\n",
    "                article_link_list.append(article_link)\n",
    "                article_title = \"None\"\n",
    "                article_title_list.append(article_title)\n",
    "                pass\n",
    "#     print(\"done page{}\".format(i))\n",
    "########################################################\n",
    "\n",
    "    for i in range(0,20):\n",
    "        \n",
    "        push_list = []\n",
    "\n",
    "        author = article_author_list[i]\n",
    "        article_monthday = article_monthday_list[i]\n",
    "#         article_year = article_year_list[i]\n",
    "        article_title = article_title_list[i]\n",
    "        article_link = article_link_list[i]\n",
    "\n",
    "        \n",
    "        try:\n",
    "            res = requests.get(str(article_link_list[i]),verify = False)\n",
    "            soup = BeautifulSoup(res.text,\"lxml\")\n",
    "            content = soup.find('div', id='main-container').text\n",
    "                \n",
    "            article_year = soup.find_all('span',class_=\"article-meta-value\")[3].text[-4:]\n",
    "#             article_year_list.append(article_year)\n",
    "\n",
    "\n",
    "            push_all = soup.find_all('div', class_='push')\n",
    "            for push in push_all:\n",
    "                push_id = push.text.split(\":\")[0].split(\" \")[1]\n",
    "                push_type = push.text[0]\n",
    "                push_content = push.text.split(\":\")[1].split(\"/\")[0][:-3]\n",
    "                push_detail = {\n",
    "                            \"id\": push_id,\n",
    "                            \"推噓\": push_type,\n",
    "                            \"回覆內容\": push_content\n",
    "                            }\n",
    "\n",
    "                push_list.append(push_detail)\n",
    "        \n",
    "\n",
    "\n",
    "        except:\n",
    "            content = \"None\"\n",
    "            \n",
    "        article_detail = {\n",
    "            '作者': author,\n",
    "            '日期': article_year + \"-\" + article_monthday,\n",
    "            '標題':article_title,\n",
    "            'url': article_link,\n",
    "            '內文': content,\n",
    "            '回文': push_list\n",
    "        }\n",
    "        client.text_mining.ptt_article.insert_one(article_detail)\n",
    "        article_detail_list.append(article_detail) \n",
    "            \n",
    "    time.sleep(0.1)\n",
    "    print(\"done page{}\".format(i))\n",
    "\n",
    "        \n",
    "        \n",
    "        \n",
    "    #     article_detail = {\n",
    "    #      'author': author,\n",
    "    #      'article_date': article_date,\n",
    "    #      'article_title':article_title,\n",
    "    #      'article_link': article_link, #\n",
    "    #     #  'content': content\n",
    "    #     }\n",
    "    #     article_detail_list.append(article_detail)\n",
    "\n",
    "\n",
    "\n",
    "\n",
    "\n",
    "     \n",
    "    "
   ]
  },
  {
   "cell_type": "code",
   "execution_count": null,
   "metadata": {
    "collapsed": true
   },
   "outputs": [],
   "source": []
  },
  {
   "cell_type": "code",
   "execution_count": null,
   "metadata": {
    "collapsed": true
   },
   "outputs": [],
   "source": []
  },
  {
   "cell_type": "code",
   "execution_count": null,
   "metadata": {
    "collapsed": true
   },
   "outputs": [],
   "source": []
  },
  {
   "cell_type": "code",
   "execution_count": null,
   "metadata": {
    "collapsed": true
   },
   "outputs": [],
   "source": []
  },
  {
   "cell_type": "code",
   "execution_count": null,
   "metadata": {
    "collapsed": true
   },
   "outputs": [],
   "source": []
  },
  {
   "cell_type": "code",
   "execution_count": null,
   "metadata": {
    "collapsed": true
   },
   "outputs": [],
   "source": []
  },
  {
   "cell_type": "code",
   "execution_count": null,
   "metadata": {
    "collapsed": true
   },
   "outputs": [],
   "source": []
  },
  {
   "cell_type": "code",
   "execution_count": null,
   "metadata": {
    "collapsed": true
   },
   "outputs": [],
   "source": []
  },
  {
   "cell_type": "code",
   "execution_count": null,
   "metadata": {
    "collapsed": true
   },
   "outputs": [],
   "source": []
  },
  {
   "cell_type": "code",
   "execution_count": null,
   "metadata": {
    "collapsed": true
   },
   "outputs": [],
   "source": []
  },
  {
   "cell_type": "code",
   "execution_count": null,
   "metadata": {
    "collapsed": true
   },
   "outputs": [],
   "source": []
  },
  {
   "cell_type": "code",
   "execution_count": null,
   "metadata": {
    "collapsed": true
   },
   "outputs": [],
   "source": []
  },
  {
   "cell_type": "code",
   "execution_count": null,
   "metadata": {
    "collapsed": true
   },
   "outputs": [],
   "source": []
  },
  {
   "cell_type": "code",
   "execution_count": null,
   "metadata": {
    "collapsed": true
   },
   "outputs": [],
   "source": []
  },
  {
   "cell_type": "code",
   "execution_count": null,
   "metadata": {
    "collapsed": true
   },
   "outputs": [],
   "source": []
  },
  {
   "cell_type": "code",
   "execution_count": null,
   "metadata": {
    "collapsed": true
   },
   "outputs": [],
   "source": []
  },
  {
   "cell_type": "code",
   "execution_count": null,
   "metadata": {
    "collapsed": true
   },
   "outputs": [],
   "source": []
  },
  {
   "cell_type": "code",
   "execution_count": null,
   "metadata": {
    "collapsed": true
   },
   "outputs": [],
   "source": []
  },
  {
   "cell_type": "code",
   "execution_count": null,
   "metadata": {
    "collapsed": true
   },
   "outputs": [],
   "source": []
  },
  {
   "cell_type": "code",
   "execution_count": 1,
   "metadata": {},
   "outputs": [
    {
     "ename": "NameError",
     "evalue": "name 'requests' is not defined",
     "output_type": "error",
     "traceback": [
      "\u001b[1;31m---------------------------------------------------------------------------\u001b[0m",
      "\u001b[1;31mNameError\u001b[0m                                 Traceback (most recent call last)",
      "\u001b[1;32m<ipython-input-1-a1a296842fb6>\u001b[0m in \u001b[0;36m<module>\u001b[1;34m()\u001b[0m\n\u001b[0;32m     11\u001b[0m \u001b[1;33m\u001b[0m\u001b[0m\n\u001b[0;32m     12\u001b[0m \u001b[1;32mfor\u001b[0m \u001b[0mi\u001b[0m \u001b[1;32min\u001b[0m \u001b[0mrange\u001b[0m\u001b[1;33m(\u001b[0m\u001b[1;36m1\u001b[0m\u001b[1;33m,\u001b[0m\u001b[1;36m2000\u001b[0m\u001b[1;33m)\u001b[0m\u001b[1;33m:\u001b[0m\u001b[1;33m\u001b[0m\u001b[0m\n\u001b[1;32m---> 13\u001b[1;33m     \u001b[0mres\u001b[0m \u001b[1;33m=\u001b[0m \u001b[0mrequests\u001b[0m\u001b[1;33m.\u001b[0m\u001b[0mget\u001b[0m\u001b[1;33m(\u001b[0m\u001b[1;34m'https://www.ptt.cc/bbs/Japan_Travel/index{}.html'\u001b[0m\u001b[1;33m.\u001b[0m\u001b[0mformat\u001b[0m\u001b[1;33m(\u001b[0m\u001b[0mstr\u001b[0m\u001b[1;33m(\u001b[0m\u001b[0mi\u001b[0m\u001b[1;33m)\u001b[0m\u001b[1;33m,\u001b[0m \u001b[0mverify\u001b[0m \u001b[1;33m=\u001b[0m \u001b[1;32mFalse\u001b[0m\u001b[1;33m)\u001b[0m\u001b[1;33m)\u001b[0m\u001b[1;33m\u001b[0m\u001b[0m\n\u001b[0m\u001b[0;32m     14\u001b[0m     \u001b[0msoup\u001b[0m \u001b[1;33m=\u001b[0m \u001b[0mBeautifulSoup\u001b[0m\u001b[1;33m(\u001b[0m\u001b[0mres\u001b[0m\u001b[1;33m.\u001b[0m\u001b[0mtext\u001b[0m\u001b[1;33m,\u001b[0m\u001b[1;34m\"lxml\"\u001b[0m\u001b[1;33m)\u001b[0m\u001b[1;33m\u001b[0m\u001b[0m\n\u001b[0;32m     15\u001b[0m \u001b[1;33m\u001b[0m\u001b[0m\n",
      "\u001b[1;31mNameError\u001b[0m: name 'requests' is not defined"
     ]
    }
   ],
   "source": [
    "article_title_list = [] # title list\n",
    "article_link_list = [] # link list\n",
    "article_author_list = [] # author list\n",
    "article_monthday_list = [] # month & date lsit\n",
    "article_year_list = [] # year list\n",
    "article_detail_list = [] # all mix\n",
    "\n",
    "author = \"\"\n",
    "articledate = \"\"\n",
    "\n",
    "\n",
    "for i in range(1,2000):\n",
    "    res = requests.get('https://www.ptt.cc/bbs/Japan_Travel/index{}.html'.format(str(i), verify = False))\n",
    "    soup = BeautifulSoup(res.text,\"lxml\")\n",
    "        \n",
    "\n",
    "    bigtitle = soup.find_all('div',class_ ='r-ent')\n",
    "    for every in bigtitle:\n",
    "    \n",
    "        author_list = every.find_all('div','author')  # 作者名稱    \n",
    "        for author in author_list:\n",
    "            author = author.text\n",
    "            article_author_list.append(author)\n",
    "\n",
    "        date_list = every.find_all('div',\"date\") # 文章日期\n",
    "        for monthday in date_list:\n",
    "            monthday = monthday.text.strip().replace(\"/\",\"-\")\n",
    "            article_monthday_list.append(monthday)\n",
    "            \n",
    "\n",
    "\n",
    "        title = every.find_all('div',class_ = 'title') # 標題&網址\n",
    "        for element in title:\n",
    "            try:\n",
    "                article_link = \"https://www.ptt.cc\"+ element.select('a')[0]['href'] # link\n",
    "                article_link_list.append(article_link) # link\n",
    "                #         article_title = element.select('a')\n",
    "                article_title = element.text.replace(\"\\n\",\"\")\n",
    "                article_title_list.append(article_title)\n",
    "    #         except KeyError:\n",
    "    #             article_title = \"\"\n",
    "    #             pass\n",
    "\n",
    "            \n",
    "            except IndexError:\n",
    "                article_link = \"None\"\n",
    "                article_link_list.append(article_link)\n",
    "                article_title = \"None\"\n",
    "                article_title_list.append(article_title)\n",
    "                pass\n",
    "    print(\"done page{}\".format(i))\n",
    "########################################################\n",
    "\n",
    "    for i in range(0,20):\n",
    "        \n",
    "        push_list = []\n",
    "\n",
    "        author = article_author_list[i]\n",
    "        article_monthday = article_monthday_list[i]\n",
    "#         article_year = article_year_list[i]\n",
    "        article_title = article_title_list[i]\n",
    "        article_link = article_link_list[i]\n",
    "\n",
    "        \n",
    "        try:\n",
    "            res = requests.get(str(article_link_list[i]),verify = False)\n",
    "            soup = BeautifulSoup(res.text,\"lxml\")\n",
    "            content = soup.find('div', id='main-container').text\n",
    "                \n",
    "            article_year = soup.find_all('span',class_=\"article-meta-value\")[3].text[-4:]\n",
    "#             article_year_list.append(article_year)\n",
    "\n",
    "\n",
    "            push_all = soup.find_all('div', class_='push')\n",
    "            for push in push_all:\n",
    "                push_id = push.text.split(\":\")[0].split(\" \")[1]\n",
    "                push_type = push.text[0]\n",
    "                push_content = push.text.split(\":\")[1].split(\"/\")[0][:-3]\n",
    "                push_detail = {\n",
    "                            \"id\": push_id,\n",
    "                            \"推噓\": push_type,\n",
    "                            \"回覆內容\": push_content\n",
    "                            }\n",
    "\n",
    "                push_list.append(push_detail)\n",
    "        \n",
    "\n",
    "\n",
    "        except:\n",
    "            content = \"None\"\n",
    "            \n",
    "        article_detail = {\n",
    "            'author': author,\n",
    "            'article_date': article_year + \"-\" + article_monthday,\n",
    "            'article_title':article_title,\n",
    "            'article_link': article_link,\n",
    "            'content': content,\n",
    "            '回文': push_list\n",
    "        }\n",
    "        client.text_mining.ptt_article.insert_one(article_detail)\n",
    "        article_detail_list.append(article_detail) \n",
    "            \n",
    "    time.sleep(0.1)\n",
    "\n",
    "        \n",
    "        \n",
    "        \n",
    "    #     article_detail = {\n",
    "    #      'author': author,\n",
    "    #      'article_date': article_date,\n",
    "    #      'article_title':article_title,\n",
    "    #      'article_link': article_link, #\n",
    "    #     #  'content': content\n",
    "    #     }\n",
    "    #     article_detail_list.append(article_detail)\n",
    "\n",
    "\n",
    "\n",
    "\n",
    "\n",
    "     \n",
    "    "
   ]
  },
  {
   "cell_type": "code",
   "execution_count": null,
   "metadata": {
    "collapsed": true
   },
   "outputs": [],
   "source": []
  },
  {
   "cell_type": "code",
   "execution_count": null,
   "metadata": {
    "collapsed": true
   },
   "outputs": [],
   "source": []
  },
  {
   "cell_type": "code",
   "execution_count": null,
   "metadata": {
    "collapsed": true
   },
   "outputs": [],
   "source": []
  },
  {
   "cell_type": "code",
   "execution_count": null,
   "metadata": {
    "collapsed": true
   },
   "outputs": [],
   "source": []
  },
  {
   "cell_type": "code",
   "execution_count": null,
   "metadata": {
    "collapsed": true
   },
   "outputs": [],
   "source": []
  },
  {
   "cell_type": "code",
   "execution_count": null,
   "metadata": {
    "collapsed": true
   },
   "outputs": [],
   "source": []
  },
  {
   "cell_type": "code",
   "execution_count": null,
   "metadata": {
    "collapsed": true
   },
   "outputs": [],
   "source": []
  },
  {
   "cell_type": "code",
   "execution_count": null,
   "metadata": {
    "collapsed": true
   },
   "outputs": [],
   "source": []
  },
  {
   "cell_type": "code",
   "execution_count": null,
   "metadata": {
    "collapsed": true
   },
   "outputs": [],
   "source": []
  },
  {
   "cell_type": "code",
   "execution_count": null,
   "metadata": {
    "collapsed": true
   },
   "outputs": [],
   "source": []
  },
  {
   "cell_type": "code",
   "execution_count": null,
   "metadata": {
    "collapsed": true
   },
   "outputs": [],
   "source": []
  },
  {
   "cell_type": "code",
   "execution_count": null,
   "metadata": {
    "collapsed": true
   },
   "outputs": [],
   "source": []
  },
  {
   "cell_type": "code",
   "execution_count": null,
   "metadata": {
    "collapsed": true
   },
   "outputs": [],
   "source": []
  },
  {
   "cell_type": "code",
   "execution_count": null,
   "metadata": {
    "collapsed": true
   },
   "outputs": [],
   "source": []
  },
  {
   "cell_type": "code",
   "execution_count": null,
   "metadata": {
    "collapsed": true
   },
   "outputs": [],
   "source": []
  },
  {
   "cell_type": "code",
   "execution_count": null,
   "metadata": {
    "collapsed": true
   },
   "outputs": [],
   "source": []
  },
  {
   "cell_type": "code",
   "execution_count": null,
   "metadata": {
    "collapsed": true
   },
   "outputs": [],
   "source": []
  },
  {
   "cell_type": "code",
   "execution_count": null,
   "metadata": {
    "collapsed": true,
    "scrolled": true
   },
   "outputs": [],
   "source": []
  },
  {
   "cell_type": "code",
   "execution_count": null,
   "metadata": {
    "collapsed": true
   },
   "outputs": [],
   "source": []
  },
  {
   "cell_type": "code",
   "execution_count": null,
   "metadata": {
    "collapsed": true
   },
   "outputs": [],
   "source": []
  },
  {
   "cell_type": "code",
   "execution_count": null,
   "metadata": {
    "collapsed": true
   },
   "outputs": [],
   "source": []
  },
  {
   "cell_type": "code",
   "execution_count": null,
   "metadata": {
    "collapsed": true
   },
   "outputs": [],
   "source": []
  },
  {
   "cell_type": "code",
   "execution_count": null,
   "metadata": {
    "collapsed": true
   },
   "outputs": [],
   "source": []
  }
 ],
 "metadata": {
  "kernelspec": {
   "display_name": "Python 3",
   "language": "python",
   "name": "python3"
  },
  "language_info": {
   "codemirror_mode": {
    "name": "ipython",
    "version": 3
   },
   "file_extension": ".py",
   "mimetype": "text/x-python",
   "name": "python",
   "nbconvert_exporter": "python",
   "pygments_lexer": "ipython3",
   "version": "3.6.1"
  }
 },
 "nbformat": 4,
 "nbformat_minor": 2
}
