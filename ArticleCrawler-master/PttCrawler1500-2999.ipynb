{
 "cells": [
  {
   "cell_type": "code",
   "execution_count": null,
   "metadata": {
    "collapsed": true
   },
   "outputs": [],
   "source": [
    "import requests\n",
    "from bs4 import BeautifulSoup\n",
    "import re\n",
    "import time\n",
    "import concurrent.futures\n",
    "from pymongo import MongoClient\n",
    "client = MongoClient('10.120.27.11', 27017)\n",
    "\n",
    "requests.packages.urllib3.disable_warnings()"
   ]
  },
  {
   "cell_type": "code",
   "execution_count": null,
   "metadata": {},
   "outputs": [
    {
     "name": "stdout",
     "output_type": "stream",
     "text": [
      "done page1500\n",
      "done page1501\n",
      "done page1502\n",
      "done page1503\n",
      "done page1504\n",
      "done page1505\n",
      "done page1506\n",
      "done page1507\n",
      "done page1508\n",
      "done page1509\n",
      "done page1510\n",
      "done page1511\n",
      "done page1512\n",
      "done page1513\n",
      "done page1514\n",
      "done page1515\n",
      "done page1516\n",
      "done page1517\n",
      "done page1518\n",
      "done page1519\n",
      "done page1520\n",
      "done page1521\n",
      "done page1522\n",
      "done page1523\n",
      "done page1524\n",
      "done page1525\n",
      "done page1526\n",
      "done page1527\n",
      "done page1528\n"
     ]
    }
   ],
   "source": [
    "for i in range(1500,3000):\n",
    "    article_title_list = [] # title list\n",
    "    article_link_list = [] # link list\n",
    "    article_author_list = [] # author list\n",
    "    article_monthday_list = [] # month & date lsit\n",
    "    article_year_list = [] # year list\n",
    "    article_detail_list = [] # all mix\n",
    "\n",
    "    author = \"\"\n",
    "    articledate = \"\"\n",
    "\n",
    "\n",
    "\n",
    "    res = requests.get('https://www.ptt.cc/bbs/Japan_Travel/index{}.html'.format(str(i), verify = False))\n",
    "    soup = BeautifulSoup(res.text,\"lxml\")\n",
    "        \n",
    "\n",
    "    bigtitle = soup.find_all('div',class_ ='r-ent')\n",
    "    for every in bigtitle:\n",
    "    \n",
    "        author_list = every.find_all('div','author')  # 作者名稱    \n",
    "        for author in author_list:\n",
    "            author = author.text\n",
    "            article_author_list.append(author)\n",
    "\n",
    "        date_list = every.find_all('div',\"date\") # 文章日期\n",
    "        for monthday in date_list:\n",
    "            monthday = monthday.text.strip().replace(\"/\",\"-\")\n",
    "            article_monthday_list.append(monthday)\n",
    "            \n",
    "\n",
    "\n",
    "        title = every.find_all('div',class_ = 'title') # 標題&網址\n",
    "        for element in title:\n",
    "            try:\n",
    "                article_link = \"https://www.ptt.cc\"+ element.select('a')[0]['href'] # link\n",
    "                article_link_list.append(article_link) # link\n",
    "                #         article_title = element.select('a')\n",
    "                article_title = element.text.replace(\"\\n\",\"\")\n",
    "                article_title_list.append(article_title)\n",
    "    #         except KeyError:\n",
    "    #             article_title = \"\"\n",
    "    #             pass\n",
    "\n",
    "            \n",
    "            except IndexError:\n",
    "                article_link = \"None\"\n",
    "                article_link_list.append(article_link)\n",
    "                article_title = \"None\"\n",
    "                article_title_list.append(article_title)\n",
    "                pass\n",
    "    print(\"done page{}\".format(i))\n",
    "########################################################\n",
    "\n",
    "    for i in range(0,20):\n",
    "        \n",
    "        push_list = []\n",
    "\n",
    "        author = article_author_list[i]\n",
    "        article_monthday = article_monthday_list[i]\n",
    "#         article_year = article_year_list[i]\n",
    "        article_title = article_title_list[i]\n",
    "        article_link = article_link_list[i]\n",
    "\n",
    "        \n",
    "        try:\n",
    "            res = requests.get(str(article_link_list[i]),verify = False)\n",
    "            soup = BeautifulSoup(res.text,\"lxml\")\n",
    "            content = soup.find('div', id='main-container').text\n",
    "                \n",
    "            article_year = soup.find_all('span',class_=\"article-meta-value\")[3].text[-4:]\n",
    "#             article_year_list.append(article_year)\n",
    "\n",
    "\n",
    "            push_all = soup.find_all('div', class_='push')\n",
    "            for push in push_all:\n",
    "                push_id = push.text.split(\":\")[0].split(\" \")[1]\n",
    "                push_type = push.text[0]\n",
    "                push_content = push.text.split(\":\")[1].split(\"/\")[0][:-3]\n",
    "                push_detail = {\n",
    "                            \"id\": push_id,\n",
    "                            \"推噓\": push_type,\n",
    "                            \"回覆內容\": push_content\n",
    "                            }\n",
    "\n",
    "                push_list.append(push_detail)\n",
    "        \n",
    "\n",
    "\n",
    "        except:\n",
    "            content = \"None\"\n",
    "            \n",
    "        article_detail = {\n",
    "            '作者': author,\n",
    "            '日期': article_year + \"-\" + article_monthday,\n",
    "            '標題':article_title,\n",
    "            'url': article_link,\n",
    "            '內文': content,\n",
    "            '回文': push_list\n",
    "        }\n",
    "        client.text_mining.ptt_article.insert_one(article_detail)\n",
    "        article_detail_list.append(article_detail) \n",
    "            \n",
    "    time.sleep(0.1)\n",
    "\n",
    "        \n",
    "        \n",
    "        \n",
    "    #     article_detail = {\n",
    "    #      'author': author,\n",
    "    #      'article_date': article_date,\n",
    "    #      'article_title':article_title,\n",
    "    #      'article_link': article_link, #\n",
    "    #     #  'content': content\n",
    "    #     }\n",
    "    #     article_detail_list.append(article_detail)\n",
    "\n",
    "\n",
    "\n",
    "\n",
    "\n",
    "     \n",
    "    "
   ]
  },
  {
   "cell_type": "code",
   "execution_count": 5,
   "metadata": {},
   "outputs": [
    {
     "data": {
      "text/plain": [
       "30000"
      ]
     },
     "execution_count": 5,
     "metadata": {},
     "output_type": "execute_result"
    }
   ],
   "source": [
    "len(article_detail_list2)"
   ]
  },
  {
   "cell_type": "code",
   "execution_count": 173,
   "metadata": {},
   "outputs": [
    {
     "name": "stderr",
     "output_type": "stream",
     "text": [
      "C:\\Users\\Java\\Anaconda3\\lib\\site-packages\\requests\\packages\\urllib3\\connectionpool.py:852: InsecureRequestWarning: Unverified HTTPS request is being made. Adding certificate verification is strongly advised. See: https://urllib3.readthedocs.io/en/latest/advanced-usage.html#ssl-warnings\n",
      "  InsecureRequestWarning)\n"
     ]
    }
   ],
   "source": [
    "res = requests.get('https://www.ptt.cc/bbs/Japan_Travel/M.1224405182.A.37B.html',verify = False)\n",
    "soup = BeautifulSoup(res.text,\"lxml\")"
   ]
  },
  {
   "cell_type": "code",
   "execution_count": 175,
   "metadata": {},
   "outputs": [
    {
     "data": {
      "text/plain": [
       "<!DOCTYPE html>\n",
       "<html>\n",
       "<head>\n",
       "<meta charset=\"utf-8\"/>\n",
       "<meta content=\"width=device-width, initial-scale=1\" name=\"viewport\"/>\n",
       "<title>[遊記] 激安～超便宜生猛海鮮哪裡找？！函館ダイニング雅家篇 - 看板 Japan_Travel - 批踢踢實業坊</title>\n",
       "<meta content=\"all\" name=\"robots\"/>\n",
       "<meta content=\"Ptt BBS 批踢踢\" name=\"keywords\"/>\n",
       "<meta content=\"精采圖文版請見http://blog.xuite.net/yukochan/200408/20108834  \n",
       "函館朝市有非常多的海產店，當然一定少不了螃蟹，可是好貴喔～～一隻便宜點的螃蟹幾\n",
       "乎都要4,5千圓，更貴的當然更多，YUKO這天不住旅館，根本沒法處理一整隻的螃蟹呀（\n",
       "泣……），所以想看看還有沒有單賣蟹腳的，看了半天也沒沒看到單賣蟹腳的，其他的生\n",
       "魚片、海膽、烏賊等各式海鮮也都不便宜，轉頭看看網路上大家推薦的海鮮食堂、餐廳，\n",
       "\" name=\"description\"/>\n",
       "<meta content=\"Ptt 批踢踢實業坊\" property=\"og:site_name\"/>\n",
       "<meta content=\"[遊記] 激安～超便宜生猛海鮮哪裡找？！函館ダイニング雅家篇\" property=\"og:title\"/>\n",
       "<meta content=\"精采圖文版請見http://blog.xuite.net/yukochan/200408/20108834  \n",
       "函館朝市有非常多的海產店，當然一定少不了螃蟹，可是好貴喔～～一隻便宜點的螃蟹幾\n",
       "乎都要4,5千圓，更貴的當然更多，YUKO這天不住旅館，根本沒法處理一整隻的螃蟹呀（\n",
       "泣……），所以想看看還有沒有單賣蟹腳的，看了半天也沒沒看到單賣蟹腳的，其他的生\n",
       "魚片、海膽、烏賊等各式海鮮也都不便宜，轉頭看看網路上大家推薦的海鮮食堂、餐廳，\n",
       "\" property=\"og:description\"/>\n",
       "<link href=\"https://www.ptt.cc/bbs/Japan_Travel/M.1224405182.A.37B.html\" rel=\"canonical\"/>\n",
       "<link href=\"//images.ptt.cc/bbs/v2.22/bbs-common.css\" rel=\"stylesheet\" type=\"text/css\"/>\n",
       "<link href=\"//images.ptt.cc/bbs/v2.22/bbs-base.css\" media=\"screen\" rel=\"stylesheet\" type=\"text/css\"/>\n",
       "<link href=\"//images.ptt.cc/bbs/v2.22/bbs-custom.css\" rel=\"stylesheet\" type=\"text/css\"/>\n",
       "<link href=\"//images.ptt.cc/bbs/v2.22/pushstream.css\" media=\"screen\" rel=\"stylesheet\" type=\"text/css\"/>\n",
       "<link href=\"//images.ptt.cc/bbs/v2.22/bbs-print.css\" media=\"print\" rel=\"stylesheet\" type=\"text/css\"/>\n",
       "</head>\n",
       "<body>\n",
       "<div id=\"fb-root\"></div>\n",
       "<script>(function(d, s, id) {\n",
       "var js, fjs = d.getElementsByTagName(s)[0];\n",
       "if (d.getElementById(id)) return;\n",
       "js = d.createElement(s); js.id = id;\n",
       "js.src = \"//connect.facebook.net/en_US/all.js#xfbml=1\";\n",
       "fjs.parentNode.insertBefore(js, fjs);\n",
       "}(document, 'script', 'facebook-jssdk'));</script>\n",
       "<div id=\"topbar-container\">\n",
       "<div class=\"bbs-content\" id=\"topbar\">\n",
       "<a href=\"/\" id=\"logo\">批踢踢實業坊</a>\n",
       "<span>›</span>\n",
       "<a class=\"board\" href=\"/bbs/Japan_Travel/index.html\"><span class=\"board-label\">看板 </span>Japan_Travel</a>\n",
       "<a class=\"right small\" href=\"/about.html\">關於我們</a>\n",
       "<a class=\"right small\" href=\"/contact.html\">聯絡資訊</a>\n",
       "</div>\n",
       "</div>\n",
       "<div id=\"navigation-container\">\n",
       "<div class=\"bbs-content\" id=\"navigation\">\n",
       "<a class=\"board\" href=\"/bbs/Japan_Travel/index.html\">返回看板</a>\n",
       "<div class=\"bar\"></div>\n",
       "<div class=\"share\">\n",
       "<span>分享</span>\n",
       "<div class=\"fb-like\" data-href=\"http://www.ptt.cc/bbs/Japan_Travel/M.1224405182.A.37B.html\" data-layout=\"button_count\" data-send=\"false\" data-show-faces=\"false\" data-width=\"90\"></div>\n",
       "<div class=\"g-plusone\" data-size=\"medium\"></div>\n",
       "<script type=\"text/javascript\">\n",
       "window.___gcfg = {lang: 'zh-TW'};\n",
       "(function() {\n",
       "var po = document.createElement('script'); po.type = 'text/javascript'; po.async = true;\n",
       "po.src = 'https://apis.google.com/js/plusone.js';\n",
       "var s = document.getElementsByTagName('script')[0]; s.parentNode.insertBefore(po, s);\n",
       "})();\n",
       "</script>\n",
       "</div>\n",
       "</div>\n",
       "</div>\n",
       "<div id=\"main-container\">\n",
       "<div class=\"bbs-screen bbs-content\" id=\"main-content\"><div class=\"article-metaline\"><span class=\"article-meta-tag\">作者</span><span class=\"article-meta-value\">gyoko (YUKO)</span></div><div class=\"article-metaline-right\"><span class=\"article-meta-tag\">看板</span><span class=\"article-meta-value\">Japan_Travel</span></div><div class=\"article-metaline\"><span class=\"article-meta-tag\">標題</span><span class=\"article-meta-value\">[遊記] 激安～超便宜生猛海鮮哪裡找？！函館ダイニング雅家篇</span></div><div class=\"article-metaline\"><span class=\"article-meta-tag\">時間</span><span class=\"article-meta-value\">Sun Oct 19 16:32:59 2008</span></div>\n",
       "<span class=\"f3 hl\">精采圖文版請見<a href=\"http://blog.xuite.net/yukochan/200408/20108834\" rel=\"nofollow\" target=\"_blank\">http://blog.xuite.net/yukochan/200408/20108834</a> </span>\n",
       "\n",
       "函館朝市有非常多的海產店，當然一定少不了螃蟹，可是好貴喔～～一隻便宜點的螃蟹幾\n",
       "乎都要4,5千圓，更貴的當然更多，YUKO這天不住旅館，根本沒法處理一整隻的螃蟹呀（\n",
       "泣……），所以想看看還有沒有單賣蟹腳的，看了半天也沒沒看到單賣蟹腳的，其他的生\n",
       "魚片、海膽、烏賊等各式海鮮也都不便宜，轉頭看看網路上大家推薦的海鮮食堂、餐廳，\n",
       "大多店家的櫥窗都設有食物模型的玻璃櫥窗，嗯～～雖然看起來很好吃，但好貴喔，大多\n",
       "比YUKO昨晚在小樽吃到的海鮮丼小碗且貴好多喔，才半個多小時YUKO就把函館朝市逛完了\n",
       "<span class=\"f6\">&gt; &lt;\n",
       "</span>\n",
       "正當YUKO在考慮是不是要放棄而進観光案內所拿DM時，忽然發現就在函館朝市正對角有一\n",
       "間水產批發商（函館朝市「北榮」<a href=\"http://www.asaiti.com\" rel=\"nofollow\" target=\"_blank\">http://www.asaiti.com</a>）經營的海鮮餐廳「函館ダイ\n",
       "ニング雅家」，午餐有限定御膳共11道菜才1260圓，而且憑DM的折價券還可兌換主廚推薦\n",
       "一品！YUKO當場就決定「就是你啦！！！」，毫不猶豫的踏進店內。\n",
       "\n",
       "\n",
       "<span class=\"f6 hl\">函館ダイニング雅家 <a href=\"http://www.asaiti.com/pc/html/insyoku/gaya/gaya.html\" rel=\"nofollow\" target=\"_blank\">http://www.asaiti.com/pc/html/insyoku/gaya/gaya.html</a> </span>\n",
       "\n",
       "YUKO是非假日的中午11點左右店剛開就來了，因為只有一個人，所以被安排在一樓的吧台\n",
       "區，坐在這因為可以親眼目睹大廚們一展手藝，未預約的客人一般而言只能坐樓上，YUKO\n",
       "坐的位置是在吧台最邊邊，其他位置都已放上預約牌了，在YUKO後面進來的客人全都被請\n",
       "到2、3樓了，看來YUKO這次又很幸運的坐到個好位（笑～～）。\n",
       "\n",
       "\n",
       "<span class=\"f6 hl\">函館ダイニング雅家有推出「限定ランチ」（限定午餐）三種\n",
       "</span><span class=\"f6 hl\"><a href=\"http://www.asaiti.com/pc/html/insyoku/gaya/gaya-lanch.html\" rel=\"nofollow\" target=\"_blank\">http://www.asaiti.com/pc/html/insyoku/gaya/gaya-lanch.html</a> </span>\n",
       "<span class=\"b1 hl\">●お刺身膳(全11品)・・・1,260円</span>\n",
       "旬の刺身3点盛り、蟹と季節の野菜の天麩羅、煮物、茶碗蒸し、サラダ、小鉢、小付け\n",
       "、ご飯、蟹汁、香の物、デザート\n",
       "<span class=\"b1 hl\">●焼き魚膳(全11品)・・・1,260円</span>\n",
       "焼魚3点盛り、蟹と季節の野菜の天麩羅、煮物、茶碗蒸し、サラダ、小鉢、小付け、ご\n",
       "飯、蟹汁、香の物、デザート\n",
       "<span class=\"b1 hl\">●蕎麦膳(全9品)・・・840円</span>\n",
       "蕎麦、蟹と季節の野菜の天麩羅、煮物、茶碗蒸し、サラダ、小鉢、小付け、香の物、デ\n",
       "ザート\n",
       "\n",
       "\n",
       "YUKO點的是第一種「お刺身膳」（生魚片御膳），一端上來真的是嚇到YUKO了，真的好豐\n",
       "富喔！！！！（這樣才1260圓耶，真的是太便宜了！！）\n",
       "\n",
       "\n",
       "蟹腳、草蝦和當季蔬菜現炸的天麩羅，非常的香脆，而且明確襯托出每道食才的特色，蟹\n",
       "腳和草蝦肉質非常Q、非常有彈性，完美呈現當季蔬菜的甜味，吃了完全不會有油膩感。\n",
       "生魚片的部分是鮭魚、鰹魚、章魚和干貝，都很新鮮甘甜，肉質也還保有彈性，很不錯。\n",
       "\n",
       "\n",
       "茶碗蒸超棒的！！他們家的茶碗蒸應該有加海鮮高湯下去做，所以不僅吃得到蛋的香醇還\n",
       "吃得到海鮮的鮮甜味，最棒的是整個茶碗蒸的口感跟烤布蕾一樣，非常的綿密細緻，但不\n",
       "會讓人覺得單薄，反而有一種濃厚感，好吃到YUKO想問他們可不可以單點追加茶碗蒸（笑\n",
       "～～沒辦法YUKO最喜歡的東西就是海鮮跟蛋料理了，根本沒有抵抗力XD）。\n",
       "\n",
       "\n",
       "味增湯一樣是蟹腳味增湯，肉滿多的！一旁的豆腐是手工豆腐，豆味很濃純，口感緊實，\n",
       "很好吃。飯的部分是用北海道「道南産ふっくりん」，非常Q非常好吃，而且最棒的是午\n",
       "餐時飯可無限量取用喔！！！其他小菜YUKO就不特別介紹了～\n",
       "\n",
       "\n",
       "但YUKO要特別介紹的是他們有附上一罐<span class=\"f6 hl\">「無着色たらこ」（無添加色素純天然的鹽漬鱈魚\n",
       "</span><span class=\"f6 hl\">子，就是照片中位於生魚片右上角那罐看起來向蕃茄醬的東西）</span>！！一般餐廳附上鹽漬鱈\n",
       "魚子、明太子之類時，都是只有一小碟或是放一小匙在飯上，但雅家可是直接大方的給一\n",
       "罐喔！！！這是他們家水產店自己產銷的產品，據說賣的很好呢，這也是只有午餐才提供\n",
       "的，而且是無限量提供喔！！這鹽漬鱈魚子單吃很鹹（畢竟是鹽漬的），但放在飯上超好\n",
       "吃、超下飯的！！但還有一個東西加這鹽漬鱈魚子也超好吃的，就是加在用DM折價券所附\n",
       "贈的特製沙拉（其實YUKO搞不大清楚那白色條狀物是什麼，本來以為是白蘿蔔絲，但吃了\n",
       "也不是，可是坐在YUKO身邊的日本女生都非常羨慕，後來都紛紛加點了，好像還不便宜耶\n",
       "！有沒有人知道這是什麼呀？？？真的好好奇喔～拜託知道的人告訴YUKO吧^^）。這特製\n",
       "沙拉本身有附醬汁，但後來YUKO發現拌上鹽漬鱈魚子後會變得更好吃耶！！\n",
       "\n",
       "\n",
       "這餐YUKO真的是撐到吃不下，而且YUKO的餐送上來時剛好有好幾組客人進來，每一組客人\n",
       "看到YUKO的餐後就好奇的問店員YUKO點的是哪道，尤其在得知這是午餐限定才1260圓後每\n",
       "個客人都要點這道，但因為數量有限，所以YUKO要離開前今天的「お刺身膳」已經全數供\n",
       "應完畢了，後面晚到的客人個個都一臉惋惜呀！！！如果大家到函館午餐想吃有別於海鮮\n",
       "丼的料理的話，真的非常推薦雅家的午餐限定喔^0^\n",
       "\n",
       "\n",
       "--\n",
       "日本關西吃喝玩樂趴趴走\n",
       "<a href=\"http://blog.xuite.net/yukochan/200408\" rel=\"nofollow\" target=\"_blank\">http://blog.xuite.net/yukochan/200408</a>\n",
       "\n",
       "--\n",
       "<span class=\"f2\">※ 發信站: 批踢踢實業坊(ptt.cc) \n",
       "</span>◆ From: 124.8.17.60\n",
       "<div class=\"push\"><span class=\"hl push-tag\">推 </span><span class=\"f3 hl push-userid\">sophiacandy</span><span class=\"f3 push-content\">:好好吃的樣子</span><span class=\"push-ipdatetime\"> 10/20 15:54\n",
       "</span></div><div class=\"push\"><span class=\"hl push-tag\">推 </span><span class=\"f3 hl push-userid\">uzumaki</span><span class=\"f3 push-content\">:好想吃喔~~</span><span class=\"push-ipdatetime\"> 10/20 16:24\n",
       "</span></div></div>\n",
       "<div data-longpollurl=\"/v1/longpoll?id=2c99322a98401417ecc9c719db9402d050318646\" data-offset=\"4304\" data-pollurl=\"/poll/Japan_Travel/M.1224405182.A.37B.html?cacheKey=2052-68551254&amp;offset=4304&amp;offset-sig=366f07d3c28a96268d81350f9a16f79e3ac6d32f\" id=\"article-polling\"></div>\n",
       "</div>\n",
       "<script>\n",
       "  (function(i,s,o,g,r,a,m){i['GoogleAnalyticsObject']=r;i[r]=i[r]||function(){\n",
       "  (i[r].q=i[r].q||[]).push(arguments)},i[r].l=1*new Date();a=s.createElement(o),\n",
       "  m=s.getElementsByTagName(o)[0];a.async=1;a.src=g;m.parentNode.insertBefore(a,m)\n",
       "  })(window,document,'script','https://www.google-analytics.com/analytics.js','ga');\n",
       "\n",
       "  ga('create', 'UA-32365737-1', {\n",
       "    cookieDomain: 'ptt.cc',\n",
       "    legacyCookieDomain: 'ptt.cc'\n",
       "  });\n",
       "  ga('send', 'pageview');\n",
       "</script>\n",
       "<script src=\"//ajax.googleapis.com/ajax/libs/jquery/2.1.1/jquery.min.js\"></script>\n",
       "<script src=\"//images.ptt.cc/bbs/v2.22/bbs.js\"></script>\n",
       "</body>\n",
       "</html>"
      ]
     },
     "execution_count": 175,
     "metadata": {},
     "output_type": "execute_result"
    }
   ],
   "source": [
    "soup"
   ]
  },
  {
   "cell_type": "code",
   "execution_count": 185,
   "metadata": {
    "collapsed": true
   },
   "outputs": [],
   "source": [
    "a = soup.find('div', id='main-container')"
   ]
  },
  {
   "cell_type": "code",
   "execution_count": 187,
   "metadata": {},
   "outputs": [
    {
     "data": {
      "text/plain": [
       "'\\n作者gyoko (YUKO)看板Japan_Travel標題[遊記] 激安～超便宜生猛海鮮哪裡找？！函館ダイニング雅家篇時間Sun Oct 19 16:32:59 2008\\n精采圖文版請見http://blog.xuite.net/yukochan/200408/20108834 \\n\\n函館朝市有非常多的海產店，當然一定少不了螃蟹，可是好貴喔～～一隻便宜點的螃蟹幾\\n乎都要4,5千圓，更貴的當然更多，YUKO這天不住旅館，根本沒法處理一整隻的螃蟹呀（\\n泣……），所以想看看還有沒有單賣蟹腳的，看了半天也沒沒看到單賣蟹腳的，其他的生\\n魚片、海膽、烏賊等各式海鮮也都不便宜，轉頭看看網路上大家推薦的海鮮食堂、餐廳，\\n大多店家的櫥窗都設有食物模型的玻璃櫥窗，嗯～～雖然看起來很好吃，但好貴喔，大多\\n比YUKO昨晚在小樽吃到的海鮮丼小碗且貴好多喔，才半個多小時YUKO就把函館朝市逛完了\\n> <\\n\\n正當YUKO在考慮是不是要放棄而進観光案內所拿DM時，忽然發現就在函館朝市正對角有一\\n間水產批發商（函館朝市「北榮」http://www.asaiti.com）經營的海鮮餐廳「函館ダイ\\nニング雅家」，午餐有限定御膳共11道菜才1260圓，而且憑DM的折價券還可兌換主廚推薦\\n一品！YUKO當場就決定「就是你啦！！！」，毫不猶豫的踏進店內。\\n\\n\\n函館ダイニング雅家 http://www.asaiti.com/pc/html/insyoku/gaya/gaya.html \\n\\nYUKO是非假日的中午11點左右店剛開就來了，因為只有一個人，所以被安排在一樓的吧台\\n區，坐在這因為可以親眼目睹大廚們一展手藝，未預約的客人一般而言只能坐樓上，YUKO\\n坐的位置是在吧台最邊邊，其他位置都已放上預約牌了，在YUKO後面進來的客人全都被請\\n到2、3樓了，看來YUKO這次又很幸運的坐到個好位（笑～～）。\\n\\n\\n函館ダイニング雅家有推出「限定ランチ」（限定午餐）三種\\nhttp://www.asaiti.com/pc/html/insyoku/gaya/gaya-lanch.html \\n●お刺身膳(全11品)・・・1,260円\\n旬の刺身3点盛り、蟹と季節の野菜の天麩羅、煮物、茶碗蒸し、サラダ、小鉢、小付け\\n、ご飯、蟹汁、香の物、デザート\\n●焼き魚膳(全11品)・・・1,260円\\n焼魚3点盛り、蟹と季節の野菜の天麩羅、煮物、茶碗蒸し、サラダ、小鉢、小付け、ご\\n飯、蟹汁、香の物、デザート\\n●蕎麦膳(全9品)・・・840円\\n蕎麦、蟹と季節の野菜の天麩羅、煮物、茶碗蒸し、サラダ、小鉢、小付け、香の物、デ\\nザート\\n\\n\\nYUKO點的是第一種「お刺身膳」（生魚片御膳），一端上來真的是嚇到YUKO了，真的好豐\\n富喔！！！！（這樣才1260圓耶，真的是太便宜了！！）\\n\\n\\n蟹腳、草蝦和當季蔬菜現炸的天麩羅，非常的香脆，而且明確襯托出每道食才的特色，蟹\\n腳和草蝦肉質非常Q、非常有彈性，完美呈現當季蔬菜的甜味，吃了完全不會有油膩感。\\n生魚片的部分是鮭魚、鰹魚、章魚和干貝，都很新鮮甘甜，肉質也還保有彈性，很不錯。\\n\\n\\n茶碗蒸超棒的！！他們家的茶碗蒸應該有加海鮮高湯下去做，所以不僅吃得到蛋的香醇還\\n吃得到海鮮的鮮甜味，最棒的是整個茶碗蒸的口感跟烤布蕾一樣，非常的綿密細緻，但不\\n會讓人覺得單薄，反而有一種濃厚感，好吃到YUKO想問他們可不可以單點追加茶碗蒸（笑\\n～～沒辦法YUKO最喜歡的東西就是海鮮跟蛋料理了，根本沒有抵抗力XD）。\\n\\n\\n味增湯一樣是蟹腳味增湯，肉滿多的！一旁的豆腐是手工豆腐，豆味很濃純，口感緊實，\\n很好吃。飯的部分是用北海道「道南産ふっくりん」，非常Q非常好吃，而且最棒的是午\\n餐時飯可無限量取用喔！！！其他小菜YUKO就不特別介紹了～\\n\\n\\n但YUKO要特別介紹的是他們有附上一罐「無着色たらこ」（無添加色素純天然的鹽漬鱈魚\\n子，就是照片中位於生魚片右上角那罐看起來向蕃茄醬的東西）！！一般餐廳附上鹽漬鱈\\n魚子、明太子之類時，都是只有一小碟或是放一小匙在飯上，但雅家可是直接大方的給一\\n罐喔！！！這是他們家水產店自己產銷的產品，據說賣的很好呢，這也是只有午餐才提供\\n的，而且是無限量提供喔！！這鹽漬鱈魚子單吃很鹹（畢竟是鹽漬的），但放在飯上超好\\n吃、超下飯的！！但還有一個東西加這鹽漬鱈魚子也超好吃的，就是加在用DM折價券所附\\n贈的特製沙拉（其實YUKO搞不大清楚那白色條狀物是什麼，本來以為是白蘿蔔絲，但吃了\\n也不是，可是坐在YUKO身邊的日本女生都非常羨慕，後來都紛紛加點了，好像還不便宜耶\\n！有沒有人知道這是什麼呀？？？真的好好奇喔～拜託知道的人告訴YUKO吧^^）。這特製\\n沙拉本身有附醬汁，但後來YUKO發現拌上鹽漬鱈魚子後會變得更好吃耶！！\\n\\n\\n這餐YUKO真的是撐到吃不下，而且YUKO的餐送上來時剛好有好幾組客人進來，每一組客人\\n看到YUKO的餐後就好奇的問店員YUKO點的是哪道，尤其在得知這是午餐限定才1260圓後每\\n個客人都要點這道，但因為數量有限，所以YUKO要離開前今天的「お刺身膳」已經全數供\\n應完畢了，後面晚到的客人個個都一臉惋惜呀！！！如果大家到函館午餐想吃有別於海鮮\\n丼的料理的話，真的非常推薦雅家的午餐限定喔^0^\\n\\n\\n--\\n日本關西吃喝玩樂趴趴走\\nhttp://blog.xuite.net/yukochan/200408\\n\\n--\\n※ 發信站: 批踢踢實業坊(ptt.cc) \\n◆ From: 124.8.17.60\\n推 sophiacandy:好好吃的樣子 10/20 15:54\\n推 uzumaki:好想吃喔~~ 10/20 16:24\\n\\n\\n'"
      ]
     },
     "execution_count": 187,
     "metadata": {},
     "output_type": "execute_result"
    }
   ],
   "source": [
    "a.text"
   ]
  },
  {
   "cell_type": "code",
   "execution_count": 10,
   "metadata": {},
   "outputs": [
    {
     "name": "stderr",
     "output_type": "stream",
     "text": [
      "C:\\Users\\Java\\Anaconda3\\lib\\site-packages\\ipykernel_launcher.py:6: DeprecationWarning: insert is deprecated. Use insert_one or insert_many instead.\n",
      "  \n"
     ]
    }
   ],
   "source": [
    "from pymongo import MongoClient\n",
    "client = MongoClient('10.120.27.11', 27017)\n",
    "# client = MongoClient()\n",
    "\n",
    "for ptt in article_detail_list2:\n",
    "    client.text_mining.ptt_article.insert_many(ptt)"
   ]
  },
  {
   "cell_type": "code",
   "execution_count": 4,
   "metadata": {},
   "outputs": [
    {
     "data": {
      "text/plain": [
       "{'_id': ObjectId('59925c44aadaed18ec6fc973'),\n",
       " 'article_date': '2/20',\n",
       " 'article_link': 'https://www.ptt.cc/bbs/Japan_Travel/M.1424439820.A.9D9.html',\n",
       " 'article_title': '[食記] 沖繩 溫暖系家庭餐廳 飴色食堂',\n",
       " 'author': 'tommyfeb2',\n",
       " 'content': '\\n作者tommyfeb2 (拿鐵可可亞餅)看板Japan_Travel標題[食記] 沖繩 溫暖系家庭餐廳 飴色食堂時間Fri Feb 20 21:41:32 2015\\n\\n店    名：あめいろ食堂（飴色食堂）\\n地    址：沖縄県那覇市樋川1-3-7\\n營業時間：[三～五] 12:00～15:00 18:00～22:00(L.O.21:00)\\n          [土・日] 12:00～22:00(L.O.21:00)\\n休    日：星期一/星期二\\n推薦食物：各項定食\\n最低消費：無\\n官    網：http://ameiro.ti-da.net/\\n食べログ：http://tabelog.com/okinawa/A4701/A470101/47007371/\\n\\n\\n好讀網誌版\\nhttp://tommyfeb2.pixnet.net/blog/post/30710944\\n\\n\\n認真的翻過日本書店裡介紹沖繩咖啡/餐廳的書之後，\\n應該不難發現這間店的存在，\\n但我還蠻意外的是，沒有什麼人介紹它，\\n或許是因為它的位置離國際通有一小段的關係。\\n\\n在暗夜裡和朋友兩人找了好久，\\n正覺得好像有可能找不到的時候，\\n遠方微弱的光線就這麼進入我們的視線，\\n啊~應該就是那裡了吧!\\n有一點懷舊又可愛的感覺的門面。\\n\\n一進去之後就聞到食物的好聞香氣，\\n靠窗位子有著可愛的擺飾與介紹店家的書本，\\n旁邊還有一排小小的吧台位，\\n即使是一個人用餐也非常的自在!!\\n\\n我點了照燒雞的定食，\\n味噌湯是上來之後自己將店家調好的味噌放進去拌勻，\\n除了主餐之外會有三樣小菜，\\n完全是不輸主菜的好吃，調味都調的非常的好!\\n米飯也非常的好吃，軟硬適中的口感，\\n整體來說主菜小菜白飯跟湯都很搭，\\n充滿著日本人的家庭味道。\\n\\n我想應該會有不少人會跟我一樣喜歡這間店的!\\n\\n\\n-------------------------------------\\n☆『2014年、冬、沖縄』から、日本生活が始まりました☆\\n沖繩．離島人生 https://www.facebook.com/livinginOkinawa\\n-------------------------------------\\n\\n\\n\\n--\\n※ 發信站: 批踢踢實業坊(ptt.cc), 來自: 153.179.237.211\\n※ 文章網址: https://www.ptt.cc/bbs/Japan_Travel/M.1424439820.A.9D9.html\\n推 w60241: 推推 02/21 11:37\\n推 Kvagrant: 口袋名單被揭露了XDDDDD 02/21 13:34\\n\\n\\n'}"
      ]
     },
     "execution_count": 4,
     "metadata": {},
     "output_type": "execute_result"
    }
   ],
   "source": [
    "article_detail_list2[1]"
   ]
  },
  {
   "cell_type": "code",
   "execution_count": null,
   "metadata": {
    "collapsed": true
   },
   "outputs": [],
   "source": []
  },
  {
   "cell_type": "code",
   "execution_count": null,
   "metadata": {
    "collapsed": true
   },
   "outputs": [],
   "source": []
  },
  {
   "cell_type": "code",
   "execution_count": null,
   "metadata": {
    "collapsed": true
   },
   "outputs": [],
   "source": []
  },
  {
   "cell_type": "code",
   "execution_count": null,
   "metadata": {
    "collapsed": true
   },
   "outputs": [],
   "source": [
    "res = requests.get(str(article_link_list[i]),verify = False)\n",
    "            soup = BeautifulSoup(res.text,\"lxml\")\n",
    "            content = soup.find('div', id='main-container').text\n",
    "                \n",
    "            article_year = soup.find_all('span',class_=\"article-meta-value\")[3].text[-4:]"
   ]
  },
  {
   "cell_type": "code",
   "execution_count": 12,
   "metadata": {
    "collapsed": true
   },
   "outputs": [],
   "source": [
    "push_all = soup.find_all('div', class_='push')\n",
    "for push in push_all:\n",
    "    push_id = push.text.split(\":\")[0].split(\" \")[1]\n",
    "    push_type = push.text[0]\n",
    "    push_content = push.text.split(\":\")[1].split(\"/\")[0][:-3]\n",
    "    push_detail = {\n",
    "                \"id\": push_id,\n",
    "                \"推噓\": push_type,\n",
    "                \"回覆內容\": push_content\n",
    "                }\n",
    "\n",
    "    push_list.append(push_detail)"
   ]
  },
  {
   "cell_type": "code",
   "execution_count": 6,
   "metadata": {
    "collapsed": true
   },
   "outputs": [],
   "source": [
    "res = requests.get(\"https://www.ptt.cc/bbs/Japan_Travel/M.1222538725.A.A71.html\",verify = False)"
   ]
  },
  {
   "cell_type": "code",
   "execution_count": 7,
   "metadata": {
    "collapsed": true
   },
   "outputs": [],
   "source": [
    "soup = BeautifulSoup(res.text,\"lxml\")\n"
   ]
  },
  {
   "cell_type": "code",
   "execution_count": 8,
   "metadata": {
    "collapsed": true
   },
   "outputs": [],
   "source": [
    "push_all = soup.find_all('div', class_='push')"
   ]
  },
  {
   "cell_type": "code",
   "execution_count": 9,
   "metadata": {},
   "outputs": [
    {
     "data": {
      "text/plain": [
       "[<div class=\"push\"><span class=\"hl push-tag\">推 </span><span class=\"f3 hl push-userid\">hourjustin</span><span class=\"f3 push-content\">:這明明是相本嘛...看的真痛苦呢～唉</span><span class=\"push-ipdatetime\"> 09/27 16:20\n",
       " </span></div>,\n",
       " <div class=\"push\"><span class=\"hl push-tag\">推 </span><span class=\"f3 hl push-userid\">YinJung</span><span class=\"f3 push-content\">:居然在宮崎駿美術館室內偷照相..希望不要讓日本人有不好</span><span class=\"push-ipdatetime\"> 09/28 08:56\n",
       " </span></div>,\n",
       " <div class=\"push\"><span class=\"f1 hl push-tag\">→ </span><span class=\"f3 hl push-userid\">YinJung</span><span class=\"f3 push-content\">:的印象....出國還是守別人的規矩比較好吧...</span><span class=\"push-ipdatetime\"> 09/28 08:56\n",
       " </span></div>,\n",
       " <div class=\"push\"><span class=\"f1 hl push-tag\">→ </span><span class=\"f3 hl push-userid\">TinaJones</span><span class=\"f3 push-content\">:感謝 hourjustin板友提醒 已經刪減每個相本連結部分囉:)</span><span class=\"push-ipdatetime\"> 09/28 09:22\n",
       " </span></div>,\n",
       " <div class=\"push\"><span class=\"f1 hl push-tag\">→ </span><span class=\"f3 hl push-userid\">TinaJones</span><span class=\"f3 push-content\">:感謝 YinJung板友提醒 已加註注意事項 不良示範不再犯:)</span><span class=\"push-ipdatetime\"> 09/28 09:22\n",
       " </span></div>,\n",
       " <div class=\"push\"><span class=\"hl push-tag\">推 </span><span class=\"f3 hl push-userid\">melisagirl</span><span class=\"f3 push-content\">:謝謝你的檔案分享喔~大推</span><span class=\"push-ipdatetime\"> 09/28 19:01\n",
       " </span></div>,\n",
       " <div class=\"push\"><span class=\"hl push-tag\">推 </span><span class=\"f3 hl push-userid\">danmama</span><span class=\"f3 push-content\">: uiuimomo 謝謝你~</span><span class=\"push-ipdatetime\"> 02/11 00:01\n",
       " </span></div>]"
      ]
     },
     "execution_count": 9,
     "metadata": {},
     "output_type": "execute_result"
    }
   ],
   "source": [
    "push_all"
   ]
  },
  {
   "cell_type": "code",
   "execution_count": 10,
   "metadata": {
    "collapsed": true
   },
   "outputs": [],
   "source": [
    "push_detail = {\n",
    "                            \"id\": push_id,\n",
    "                            \"推噓\": push_type,\n",
    "                            \"回覆內容\": push_content\n",
    "                            }"
   ]
  },
  {
   "cell_type": "code",
   "execution_count": 13,
   "metadata": {},
   "outputs": [
    {
     "data": {
      "text/plain": [
       "[{'id': 'mayegg', '回覆內容': ' 車資可以自己算 h', '推噓': '→'},\n",
       " {'id': 'mayegg', '回覆內容': ' 飯店住哪？ 鎌倉江之島有別的票券', '推噓': '→'},\n",
       " {'id': 'mayegg', '回覆內容': ' 台場也沒有地鐵 都是私鐵', '推噓': '→'},\n",
       " {'id': 'mayegg', '回覆內容': ' 25行程太趕 日本商店大多8.9點關門 到新宿大概都晚上了', '推噓': '→'},\n",
       " {'id': 'mayegg', '回覆內容': ' 中野百老匯店家營業時間和公休日官網都有寫', '推噓': '→'},\n",
       " {'id': 'mayegg', '回覆內容': ' 查氣象 h', '推噓': '→'},\n",
       " {'id': 'mayegg', '回覆內容': ' 下週的最低溫3~5度', '推噓': '→'},\n",
       " {'id': 'carolfriend', '回覆內容': '', '推噓': '推'},\n",
       " {'id': 'carolfriend', '回覆內容': '', '推噓': '→'},\n",
       " {'id': 'carolfriend', '回覆內容': '', '推噓': '→'},\n",
       " {'id': 'carolfriend', '回覆內容': '', '推噓': '→'},\n",
       " {'id': 'carolfriend', '回覆內容': ' 了半天時間~加上搭江電和鐮倉高校前~差不多就是一天', '推噓': '→'},\n",
       " {'id': 'carolfriend', '回覆內容': ' 回到新宿差不多是6.7點左右~給你參考一下', '推噓': '→'},\n",
       " {'id': 'carolfriend', '回覆內容': '', '推噓': '→'},\n",
       " {'id': 'carolfriend', '回覆內容': ' 可以買個一日券用~有循環巴士和海鷗號搭配使用', '推噓': '→'},\n",
       " {'id': 'carolfriend', '回覆內容': '', '推噓': '→'},\n",
       " {'id': 'TITZU', '回覆內容': ' 謝謝大家的建議^^，稍後把行程修一修再請大家幫忙了。', '推噓': '→'},\n",
       " {'id': 'hourjustin', '回覆內容': '這明明是相本嘛...看的真痛苦呢～唉', '推噓': '推'},\n",
       " {'id': 'YinJung', '回覆內容': '居然在宮崎駿美術館室內偷照相..希望不要讓日本人有不好', '推噓': '推'},\n",
       " {'id': 'YinJung', '回覆內容': '的印象....出國還是守別人的規矩比較好吧...', '推噓': '→'},\n",
       " {'id': 'TinaJones', '回覆內容': '感謝 hourjustin板友提醒 已經刪減每個相本連結', '推噓': '→'},\n",
       " {'id': 'TinaJones', '回覆內容': '感謝 YinJung板友提醒 已加註注意事項 不良示範', '推噓': '→'},\n",
       " {'id': 'melisagirl', '回覆內容': '謝謝你的檔案分享喔~大推', '推噓': '推'},\n",
       " {'id': 'danmama', '回覆內容': ' uiuimomo 謝謝你~', '推噓': '推'}]"
      ]
     },
     "execution_count": 13,
     "metadata": {},
     "output_type": "execute_result"
    }
   ],
   "source": [
    "push_list"
   ]
  },
  {
   "cell_type": "code",
   "execution_count": null,
   "metadata": {
    "collapsed": true
   },
   "outputs": [],
   "source": []
  },
  {
   "cell_type": "code",
   "execution_count": null,
   "metadata": {
    "collapsed": true
   },
   "outputs": [],
   "source": []
  },
  {
   "cell_type": "code",
   "execution_count": null,
   "metadata": {
    "collapsed": true
   },
   "outputs": [],
   "source": []
  },
  {
   "cell_type": "code",
   "execution_count": null,
   "metadata": {
    "collapsed": true
   },
   "outputs": [],
   "source": []
  },
  {
   "cell_type": "code",
   "execution_count": null,
   "metadata": {
    "collapsed": true
   },
   "outputs": [],
   "source": [
    "https://www.ptt.cc/bbs/Japan_Travel/M.1222538725.A.A71.html"
   ]
  }
 ],
 "metadata": {
  "kernelspec": {
   "display_name": "Python 3",
   "language": "python",
   "name": "python3"
  },
  "language_info": {
   "codemirror_mode": {
    "name": "ipython",
    "version": 3
   },
   "file_extension": ".py",
   "mimetype": "text/x-python",
   "name": "python",
   "nbconvert_exporter": "python",
   "pygments_lexer": "ipython3",
   "version": "3.6.1"
  }
 },
 "nbformat": 4,
 "nbformat_minor": 2
}
